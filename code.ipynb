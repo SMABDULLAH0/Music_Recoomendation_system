{
 "cells": [
  {
   "cell_type": "markdown",
   "metadata": {},
   "source": [
    "## PHASE 1:"
   ]
  },
  {
   "cell_type": "code",
   "execution_count": 2,
   "metadata": {},
   "outputs": [
    {
     "name": "stdout",
     "output_type": "stream",
     "text": [
      "Audio features extracted and saved to a partial CSV file.\n"
     ]
    }
   ],
   "source": [
    "import os\n",
    "import librosa\n",
    "import numpy as np\n",
    "import pandas as pd\n",
    "\n",
    "# Define the path to the fma_small dataset\n",
    "# fma_small_path = \"/home/mohid/Desktop/BIG_DATA_PROJECT/fma_small/\"\n",
    "# /media/abdullah/Laxer_SSD/Semester_6/Big_Data/Project/fma_medium/\n",
    "fma_medium_path = \"/home/abdullah/Documents/Big Data Project/\"\n",
    "# Define a function to extract features from audio files\n",
    "def extract_features(audio_path, max_length=1000):\n",
    "    print(f\"Reading audio file: {audio_path}\")\n",
    "    # Load audio file\n",
    "    try:\n",
    "        y, sr = librosa.load(audio_path)\n",
    "    except Exception as e:\n",
    "        print(f\"Error reading {audio_path}: {e}\")\n",
    "        return None\n",
    "    \n",
    "    # Extract features\n",
    "    mfcc = librosa.feature.mfcc(y=y, sr=sr)\n",
    "    spectral_centroid = librosa.feature.spectral_centroid(y=y, sr=sr)\n",
    "    zero_crossing_rate = librosa.feature.zero_crossing_rate(y)\n",
    "    \n",
    "    # Pad or truncate features to ensure a fixed length\n",
    "    mfcc = librosa.util.fix_length(mfcc, size=max_length, axis=1)\n",
    "    spectral_centroid = librosa.util.fix_length(spectral_centroid, size=max_length)\n",
    "    zero_crossing_rate = librosa.util.fix_length(zero_crossing_rate, size=max_length)\n",
    "    \n",
    "    # Concatenate features into a single array\n",
    "    features = np.concatenate([mfcc, spectral_centroid, zero_crossing_rate], axis=0)\n",
    "    \n",
    "    return features.flatten()  # Flatten the feature array to ensure a consistent shape\n",
    "\n",
    "# Initialize empty lists to store features and track IDs\n",
    "features_list = []\n",
    "track_ids = []\n",
    "\n",
    "# Initialize counter for tracking the number of files processed\n",
    "file_count = 0\n",
    "\n",
    "# Initialize a DataFrame to store all features\n",
    "all_features_df = None\n",
    "\n",
    "# Iterate through each folder in fma_small\n",
    "for folder in os.listdir(fma_medium_path):\n",
    "    if os.path.isdir(os.path.join(fma_medium_path, folder)):\n",
    "        for filename in os.listdir(os.path.join(fma_medium_path, folder)):\n",
    "            if filename.endswith(\".mp3\"):\n",
    "                # Construct the path to the audio file\n",
    "                audio_path = os.path.join(fma_medium_path, folder, filename)\n",
    "                \n",
    "                # Extract features from the audio file\n",
    "                audio_features = extract_features(audio_path)\n",
    "                if audio_features is not None:\n",
    "                    # Store features and track ID\n",
    "                    features_list.append(audio_features)\n",
    "                    track_ids.append(filename.split('.')[0])  # Assuming the filename is in the format 'trackID.mp3'\n",
    "                    \n",
    "                    # Increment file count\n",
    "                    file_count += 1\n",
    "                    \n",
    "                    # Save features to DataFrame\n",
    "                    if file_count % 50 == 0 or file_count == len(os.listdir(fma_medium_path)):\n",
    "                        # Convert features list to DataFrame\n",
    "                        features_df = pd.DataFrame(data=features_list, columns=[f\"feature_{i}\" for i in range(features_list[0].shape[0])])\n",
    "                        features_df['track_id'] = track_ids\n",
    "                        \n",
    "                        # Concatenate with previous features\n",
    "                        if all_features_df is None:\n",
    "                            all_features_df = features_df\n",
    "                        else:\n",
    "                            all_features_df = pd.concat([all_features_df, features_df], ignore_index=True)\n",
    "                        \n",
    "                        # Reset lists after saving\n",
    "                        features_list = []\n",
    "                        track_ids = []\n",
    "                        \n",
    "                        # Save all features to a CSV file\n",
    "                        all_features_df.to_csv('audio_features_partial.csv', index=False)\n",
    "                        print(f\"Partial audio features saved. Total processed: {file_count}\")\n",
    "\n",
    "print(\"Audio features extracted and saved to a partial CSV file.\")"
   ]
  },
  {
   "cell_type": "code",
   "execution_count": null,
   "metadata": {},
   "outputs": [],
   "source": []
  },
  {
   "cell_type": "code",
   "execution_count": null,
   "metadata": {},
   "outputs": [],
   "source": []
  }
 ],
 "metadata": {
  "kernelspec": {
   "display_name": "Python 3 (ipykernel)",
   "language": "python",
   "name": "python3"
  },
  "language_info": {
   "codemirror_mode": {
    "name": "ipython",
    "version": 3
   },
   "file_extension": ".py",
   "mimetype": "text/x-python",
   "name": "python",
   "nbconvert_exporter": "python",
   "pygments_lexer": "ipython3",
   "version": "3.11.7"
  }
 },
 "nbformat": 4,
 "nbformat_minor": 2
}
